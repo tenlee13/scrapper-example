{
 "cells": [
  {
   "cell_type": "code",
   "execution_count": null,
   "metadata": {},
   "outputs": [],
   "source": [
    "\n",
    "import requests\n",
    "from bs4 import BeautifulSoup\n",
    "import os\n",
    "import pandas as pd\n",
    "import time\n",
    "import re\n",
    "import seaborn\n",
    "from lxml import html\n",
    "import matplotlib\n",
    "\n",
    "%config InlineBackend.figure_format = 'svg'\n",
    "from pylab import rcParams\n",
    "rcParams['figure.figsize'] = 8, 5"
   ]
  },
  {
   "cell_type": "code",
   "execution_count": null,
   "metadata": {},
   "outputs": [],
   "source": [
    "user_id = 12345"
   ]
  },
  {
   "cell_type": "code",
   "execution_count": null,
   "metadata": {},
   "outputs": [],
   "source": [
    "s = requests.Session() \n",
    "s.headers.update({\n",
    "        'Referer': 'http://www.kinopoisk.ru',\n",
    "        'User-Agent': 'Mozilla/5.0 (Macintosh; Intel Mac OS X 10.9; rv:45.0) Gecko/20100101 Firefox/45.0'\n",
    "    })"
   ]
  },
  {
   "cell_type": "code",
   "execution_count": null,
   "metadata": {},
   "outputs": [],
   "source": [
    "def load_user_data(user_id, page, session):\n",
    "    url = 'http://www.kinopoisk.ru/user/%d/votes/list/ord/date/page/%d/#list' % (user_id, page)\n",
    "    # print url\n",
    "    request = session.get(url)\n",
    "    return request.text\n",
    "\n",
    "def contain_movies_data(text):\n",
    "    soup = BeautifulSoup(text)\n",
    "    film_list = soup.find('div', {'class': 'profileFilmsList'})\n",
    "    return film_list is not None\n",
    "\n",
    "def read_file(filename):\n",
    "    with open(filename) as input_file:\n",
    "        text = input_file.read()\n",
    "    return text\n",
    "\n",
    "def parse_user_datafile_bs(filename):\n",
    "    results = []\n",
    "    text = read_file(filename)\n",
    "        \n",
    "    soup = BeautifulSoup(text)\n",
    "    film_list = soup.find('div', {'class': 'profileFilmsList'})\n",
    "    items = film_list.find_all('div', {'class': ['item', 'item even']})\n",
    "    for item in items:\n",
    "        movie_link = item.find('div', {'class': 'nameRus'}).find('a').get('href')\n",
    "        movie_desc = item.find('div', {'class': 'nameRus'}).find('a').text\n",
    "        movie_id = re.findall('\\d+', movie_link)[0]\n",
    "        \n",
    "        \n",
    "        name_eng = item.find('div', {'class': 'nameEng'}).text\n",
    "        \n",
    "        \n",
    "        watch_datetime = item.find('div', {'class': 'date'}).text\n",
    "        date_watched, time_watched = re.match('(\\d{2}\\.\\d{2}\\.\\d{4}), (\\d{2}:\\d{2})', watch_datetime).groups()\n",
    "        \n",
    "        \n",
    "        user_rating = item.find('div', {'class': 'vote'}).text\n",
    "        if user_rating:\n",
    "            user_rating = int(user_rating)\n",
    "            \n",
    "        results.append({\n",
    "                'movie_id': movie_id,\n",
    "                'name_eng': name_eng,\n",
    "                'date_watched': date_watched,\n",
    "                'time_watched': time_watched,\n",
    "                'user_rating': user_rating,\n",
    "                'movie_desc': movie_desc\n",
    "            })\n",
    "    return results\n",
    "\n",
    "def parse_user_datafile_lxml(filename):\n",
    "    results = []\n",
    "    text = read_file(filename)\n",
    "    \n",
    "    tree = html.fromstring(text)\n",
    "    \n",
    "    film_list_lxml = tree.xpath('//div[@class = \"profileFilmsList\"]')[0]\n",
    "    items_lxml = film_list_lxml.xpath('//div[@class = \"item even\" or @class = \"item\"]')  \n",
    "    for item_lxml in items_lxml:\n",
    "        \n",
    "        movie_link = item_lxml.xpath('.//div[@class = \"nameRus\"]/a/@href')[0]\n",
    "        movie_desc = item_lxml.xpath('.//div[@class = \"nameRus\"]/a/text()')[0]\n",
    "        movie_id = re.findall('\\d+', movie_link)[0]\n",
    "\n",
    "        \n",
    "        name_eng = item_lxml.xpath('.//div[@class = \"nameEng\"]/text()')[0]\n",
    "\n",
    "        \n",
    "        watch_datetime = item_lxml.xpath('.//div[@class = \"date\"]/text()')[0]\n",
    "        date_watched, time_watched = re.match('(\\d{2}\\.\\d{2}\\.\\d{4}), (\\d{2}:\\d{2})', watch_datetime).groups()\n",
    "\n",
    "        \n",
    "        user_rating = item_lxml.xpath('.//div[@class = \"vote\"]/text()')\n",
    "        if user_rating:\n",
    "            user_rating = int(user_rating[0])\n",
    "            \n",
    "        results.append({\n",
    "                'movie_id': movie_id,\n",
    "                'name_eng': name_eng,\n",
    "                'date_watched': date_watched,\n",
    "                'time_watched': time_watched,\n",
    "                'user_rating': user_rating,\n",
    "                'movie_desc': movie_desc\n",
    "            })\n",
    "    return results"
   ]
  },
  {
   "cell_type": "code",
   "execution_count": null,
   "metadata": {},
   "outputs": [],
   "source": [
    "page = 1\n",
    "while True:\n",
    "    data = load_user_data(user_id, page, s)\n",
    "    if contain_movies_data(data):\n",
    "        with open('./user_data/page_%d.html' % (page), 'w') as output_file:\n",
    "            output_file.write(data.encode('cp1251'))\n",
    "            page += 1\n",
    "    else:\n",
    "            break"
   ]
  },
  {
   "cell_type": "code",
   "execution_count": null,
   "metadata": {},
   "outputs": [],
   "source": [
    "results = []\n",
    "for filename in os.listdir('./user_data/'):\n",
    "    results.extend(parse_user_datafile_bs('./user_data/' + filename))"
   ]
  },
  {
   "cell_type": "code",
   "execution_count": null,
   "metadata": {},
   "outputs": [],
   "source": [
    "user_data_df = pd.DataFrame(results)\n",
    "user_data_df['user_rating'] = pd.to_numeric(user_data_df.user_rating)"
   ]
  },
  {
   "cell_type": "code",
   "execution_count": null,
   "metadata": {},
   "outputs": [],
   "source": [
    "movies = user_data_df.movie_id.unique().tolist()"
   ]
  },
  {
   "cell_type": "code",
   "execution_count": null,
   "metadata": {},
   "outputs": [],
   "source": [
    "\n",
    "user_data_df[780:790]"
   ]
  }
 ],
 "metadata": {
  "kernelspec": {
   "display_name": "Python 3",
   "language": "python",
   "name": "python3"
  },
  "language_info": {
   "codemirror_mode": {
    "name": "ipython",
    "version": 3
   },
   "file_extension": ".py",
   "mimetype": "text/x-python",
   "name": "python",
   "nbconvert_exporter": "python",
   "pygments_lexer": "ipython3",
   "version": "3.7.1"
  }
 },
 "nbformat": 4,
 "nbformat_minor": 2
}
